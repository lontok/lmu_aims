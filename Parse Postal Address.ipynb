{
 "cells": [
  {
   "cell_type": "code",
   "execution_count": 37,
   "metadata": {},
   "outputs": [],
   "source": [
    "import pandas as pd"
   ]
  },
  {
   "cell_type": "code",
   "execution_count": 38,
   "metadata": {},
   "outputs": [],
   "source": [
    "# assign csv file to a dataframe\n",
    "df = pd.read_csv('addresses.csv')"
   ]
  },
  {
   "cell_type": "code",
   "execution_count": 45,
   "metadata": {},
   "outputs": [
    {
     "data": {
      "text/html": [
       "<div>\n",
       "<style scoped>\n",
       "    .dataframe tbody tr th:only-of-type {\n",
       "        vertical-align: middle;\n",
       "    }\n",
       "\n",
       "    .dataframe tbody tr th {\n",
       "        vertical-align: top;\n",
       "    }\n",
       "\n",
       "    .dataframe thead th {\n",
       "        text-align: right;\n",
       "    }\n",
       "</style>\n",
       "<table border=\"1\" class=\"dataframe\">\n",
       "  <thead>\n",
       "    <tr style=\"text-align: right;\">\n",
       "      <th></th>\n",
       "      <th>postal_address</th>\n",
       "      <th>city</th>\n",
       "    </tr>\n",
       "  </thead>\n",
       "  <tbody>\n",
       "    <tr>\n",
       "      <td>0</td>\n",
       "      <td>PRIVATE BAG K9 KASANE</td>\n",
       "      <td>KASANE</td>\n",
       "    </tr>\n",
       "    <tr>\n",
       "      <td>1</td>\n",
       "      <td>P O BOX 2029 SEROWE</td>\n",
       "      <td>SEROWE</td>\n",
       "    </tr>\n",
       "    <tr>\n",
       "      <td>2</td>\n",
       "      <td>P O BOX 912 TONOTA</td>\n",
       "      <td>TONOTA</td>\n",
       "    </tr>\n",
       "    <tr>\n",
       "      <td>3</td>\n",
       "      <td>P O BOX 1837 FRANCISTOWN</td>\n",
       "      <td>FRANCISTOWN</td>\n",
       "    </tr>\n",
       "    <tr>\n",
       "      <td>4</td>\n",
       "      <td>PRIVATE BAG 127 LOS ANGELES</td>\n",
       "      <td>LOS ANGELES</td>\n",
       "    </tr>\n",
       "  </tbody>\n",
       "</table>\n",
       "</div>"
      ],
      "text/plain": [
       "                postal_address         city\n",
       "0        PRIVATE BAG K9 KASANE       KASANE\n",
       "1          P O BOX 2029 SEROWE       SEROWE\n",
       "2           P O BOX 912 TONOTA       TONOTA\n",
       "3     P O BOX 1837 FRANCISTOWN  FRANCISTOWN\n",
       "4  PRIVATE BAG 127 LOS ANGELES  LOS ANGELES"
      ]
     },
     "execution_count": 45,
     "metadata": {},
     "output_type": "execute_result"
    }
   ],
   "source": [
    "# display the first 5 rows of the dataframe\n",
    "df.head()"
   ]
  },
  {
   "cell_type": "code",
   "execution_count": 46,
   "metadata": {},
   "outputs": [],
   "source": [
    "# copy the postal_address column to a new column named city\n",
    "# you will be modifying the city column to remove the unwanted strings, thus leaving only the city\n",
    "df['city'] = df['postal_address']"
   ]
  },
  {
   "cell_type": "code",
   "execution_count": 48,
   "metadata": {},
   "outputs": [],
   "source": [
    "# use a regular expression (regex) to find a string and replace the found string\n",
    "\n",
    "# modify the city column to replace the PRIVATE BAG string\n",
    "# at the beginning of the value and a string with 1 or more\n",
    "# characters after PRIVATE BAG with an empty string\n",
    "\n",
    "df['city'].replace(to_replace=r'^PRIVATE BAG \\w+ ', value='', regex=True, inplace=True)"
   ]
  },
  {
   "cell_type": "code",
   "execution_count": 49,
   "metadata": {},
   "outputs": [
    {
     "data": {
      "text/html": [
       "<div>\n",
       "<style scoped>\n",
       "    .dataframe tbody tr th:only-of-type {\n",
       "        vertical-align: middle;\n",
       "    }\n",
       "\n",
       "    .dataframe tbody tr th {\n",
       "        vertical-align: top;\n",
       "    }\n",
       "\n",
       "    .dataframe thead th {\n",
       "        text-align: right;\n",
       "    }\n",
       "</style>\n",
       "<table border=\"1\" class=\"dataframe\">\n",
       "  <thead>\n",
       "    <tr style=\"text-align: right;\">\n",
       "      <th></th>\n",
       "      <th>postal_address</th>\n",
       "      <th>city</th>\n",
       "    </tr>\n",
       "  </thead>\n",
       "  <tbody>\n",
       "    <tr>\n",
       "      <td>0</td>\n",
       "      <td>PRIVATE BAG K9 KASANE</td>\n",
       "      <td>KASANE</td>\n",
       "    </tr>\n",
       "    <tr>\n",
       "      <td>1</td>\n",
       "      <td>P O BOX 2029 SEROWE</td>\n",
       "      <td>P O BOX 2029 SEROWE</td>\n",
       "    </tr>\n",
       "    <tr>\n",
       "      <td>2</td>\n",
       "      <td>P O BOX 912 TONOTA</td>\n",
       "      <td>P O BOX 912 TONOTA</td>\n",
       "    </tr>\n",
       "    <tr>\n",
       "      <td>3</td>\n",
       "      <td>P O BOX 1837 FRANCISTOWN</td>\n",
       "      <td>P O BOX 1837 FRANCISTOWN</td>\n",
       "    </tr>\n",
       "    <tr>\n",
       "      <td>4</td>\n",
       "      <td>PRIVATE BAG 127 LOS ANGELES</td>\n",
       "      <td>LOS ANGELES</td>\n",
       "    </tr>\n",
       "    <tr>\n",
       "      <td>5</td>\n",
       "      <td>P O BOX 20 GABORONE</td>\n",
       "      <td>P O BOX 20 GABORONE</td>\n",
       "    </tr>\n",
       "  </tbody>\n",
       "</table>\n",
       "</div>"
      ],
      "text/plain": [
       "                postal_address                      city\n",
       "0        PRIVATE BAG K9 KASANE                    KASANE\n",
       "1          P O BOX 2029 SEROWE       P O BOX 2029 SEROWE\n",
       "2           P O BOX 912 TONOTA        P O BOX 912 TONOTA\n",
       "3     P O BOX 1837 FRANCISTOWN  P O BOX 1837 FRANCISTOWN\n",
       "4  PRIVATE BAG 127 LOS ANGELES               LOS ANGELES\n",
       "5          P O BOX 20 GABORONE       P O BOX 20 GABORONE"
      ]
     },
     "execution_count": 49,
     "metadata": {},
     "output_type": "execute_result"
    }
   ],
   "source": [
    "# confirm the replacement worked\n",
    "df"
   ]
  },
  {
   "cell_type": "markdown",
   "metadata": {},
   "source": [
    "# Now do the same for the addresses with a P O BOX"
   ]
  },
  {
   "cell_type": "code",
   "execution_count": null,
   "metadata": {},
   "outputs": [],
   "source": []
  }
 ],
 "metadata": {
  "kernelspec": {
   "display_name": "Python 3",
   "language": "python",
   "name": "python3"
  },
  "language_info": {
   "codemirror_mode": {
    "name": "ipython",
    "version": 3
   },
   "file_extension": ".py",
   "mimetype": "text/x-python",
   "name": "python",
   "nbconvert_exporter": "python",
   "pygments_lexer": "ipython3",
   "version": "3.7.4"
  }
 },
 "nbformat": 4,
 "nbformat_minor": 2
}
